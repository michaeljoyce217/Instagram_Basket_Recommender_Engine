{
 "cells": [
  {
   "cell_type": "code",
   "execution_count": 1,
   "metadata": {},
   "outputs": [],
   "source": [
    "#import basic libraries\n",
    "import pandas as pd\n",
    "import numpy as np\n",
    "import random\n",
    "\n",
    "\n",
    "#import SkLearn\n",
    "from sklearn.preprocessing import OneHotEncoder\n",
    "from sklearn.metrics.pairwise import cosine_similarity\n",
    "\n",
    "import warnings\n",
    "warnings.filterwarnings('ignore')\n"
   ]
  },
  {
   "cell_type": "code",
   "execution_count": 2,
   "metadata": {},
   "outputs": [],
   "source": [
    "#import Instacart data\n",
    "\n",
    "aisles = pd.read_csv('/Users/michaeljoyce/Desktop/Recommender_Engine_Instacart/data/aisles.csv')              \n",
    "orders= pd.read_csv('/Users/michaeljoyce/Desktop/Recommender_Engine_Instacart/data/orders.csv') \n",
    "departments= pd.read_csv('/Users/michaeljoyce/Desktop/Recommender_Engine_Instacart/data/departments.csv')            \n",
    "products= pd.read_csv('/Users/michaeljoyce/Desktop/Recommender_Engine_Instacart/data/products.csv') \n",
    "order_products_prior= pd.read_csv('/Users/michaeljoyce/Desktop/Recommender_Engine_Instacart/data/order_products__prior.csv')  \n",
    "order_products_train= pd.read_csv('/Users/michaeljoyce/Desktop/Recommender_Engine_Instacart/data/order_products__train.csv') "
   ]
  },
  {
   "cell_type": "code",
   "execution_count": 3,
   "metadata": {},
   "outputs": [],
   "source": [
    "filenames=['aisles','departments', 'order_products__prior', 'order_products__train', 'orders', 'products']\n"
   ]
  },
  {
   "cell_type": "code",
   "execution_count": 4,
   "metadata": {},
   "outputs": [],
   "source": [
    "#merge the datasets together\n",
    "\n",
    "opt1=order_products_train.merge(products,how='left', on='product_id')\n",
    "opt2=opt1.merge(departments,how='left', on='department_id')\n",
    "opt3=opt2.merge(aisles, how='left', on='aisle_id')\n",
    "opt=opt3.copy()"
   ]
  },
  {
   "cell_type": "code",
   "execution_count": null,
   "metadata": {},
   "outputs": [],
   "source": []
  },
  {
   "cell_type": "markdown",
   "metadata": {},
   "source": [
    "### Filter the data by reorders"
   ]
  },
  {
   "cell_type": "code",
   "execution_count": 5,
   "metadata": {},
   "outputs": [],
   "source": [
    "# remove items that were not reordered\n",
    "\n",
    "reorders=opt[opt['reordered']==1]"
   ]
  },
  {
   "cell_type": "code",
   "execution_count": 6,
   "metadata": {},
   "outputs": [],
   "source": [
    "#filter for products reordered more than once \n",
    "\n",
    "hivol=reorders.copy()['product_id'].value_counts().sort_values(ascending=False)\\\n",
    "    [reorders.copy()['product_id'].value_counts().sort_values(ascending=False)>1].index.tolist()\n",
    "\n",
    "reorders=reorders[reorders['product_id'].isin(hivol)]\n"
   ]
  },
  {
   "cell_type": "code",
   "execution_count": 7,
   "metadata": {},
   "outputs": [],
   "source": [
    "#filter for high demand products\n",
    "\n",
    "reorders['hi_dem']=(reorders.copy()['product_id'].value_counts().sort_values(ascending=False)>1)\n",
    "\n",
    "hidem_ord = reorders[reorders['hi_dem'] == True]\n"
   ]
  },
  {
   "cell_type": "code",
   "execution_count": 8,
   "metadata": {},
   "outputs": [],
   "source": [
    "#merge orders dataframe\n",
    "\n",
    "user_orders=reorders.merge(orders)"
   ]
  },
  {
   "cell_type": "code",
   "execution_count": 9,
   "metadata": {},
   "outputs": [],
   "source": [
    "#filter for high demand products\n",
    "\n",
    "user_orders['hi_dem']=(user_orders.copy()['product_id'].value_counts().sort_values(ascending=False)>1)\n",
    "\n",
    "hidem_ord=user_orders[user_orders['hi_dem']==True]"
   ]
  },
  {
   "cell_type": "code",
   "execution_count": null,
   "metadata": {},
   "outputs": [],
   "source": []
  },
  {
   "cell_type": "markdown",
   "metadata": {},
   "source": [
    "### Create the recommender system"
   ]
  },
  {
   "cell_type": "code",
   "execution_count": 10,
   "metadata": {},
   "outputs": [],
   "source": [
    "def Recommender_System(user_id):\n",
    "    \n",
    "    '''\n",
    "    Input User Id to see recommendations for the User\n",
    "    '''\n",
    "    \n",
    "    u = hidem_ord.groupby(['user_id','product_name']).size().sort_values(ascending=False).unstack().fillna(0)\n",
    "    users_sim = pd.DataFrame(cosine_similarity(u),index=u.index,columns=u.index)\n",
    "\n",
    "    p = hidem_ord.groupby(['product_name','user_id']).size().sort_values(ascending=False).unstack().fillna(0)\n",
    "    \n",
    "    recommendations = pd.Series(np.dot(p.values,users_sim[user_id]), index=p.index)\n",
    "    return recommendations.sort_values(ascending=False).head(),"
   ]
  },
  {
   "cell_type": "code",
   "execution_count": 11,
   "metadata": {},
   "outputs": [
    {
     "name": "stdout",
     "output_type": "stream",
     "text": [
      "139903\n"
     ]
    }
   ],
   "source": [
    "#gives a random user ID to for input to the recommender system\n",
    "example=random.sample(hidem_ord['user_id'].tolist(),1)[0]\n",
    "print(example)"
   ]
  },
  {
   "cell_type": "code",
   "execution_count": 12,
   "metadata": {},
   "outputs": [
    {
     "data": {
      "text/plain": [
       "(product_name\n",
       " Spinaci e Ricotta Ravioli                              1.267261\n",
       " Smmmile, It's Three Cheesy Macaroni & Cheese Dinner    1.000000\n",
       " Original No Pulp 100% Florida Orange Juice             0.267261\n",
       " Deli Fresh Shaved Smoked Turkey Breast                 0.267261\n",
       " Family Size Lasagna With Meat & Sauce                  0.267261\n",
       " dtype: float64,)"
      ]
     },
     "execution_count": 12,
     "metadata": {},
     "output_type": "execute_result"
    }
   ],
   "source": [
    "Recommender_System(example)"
   ]
  },
  {
   "cell_type": "code",
   "execution_count": null,
   "metadata": {},
   "outputs": [],
   "source": []
  }
 ],
 "metadata": {
  "kernelspec": {
   "display_name": "Python 3",
   "language": "python",
   "name": "python3"
  },
  "language_info": {
   "codemirror_mode": {
    "name": "ipython",
    "version": 3
   },
   "file_extension": ".py",
   "mimetype": "text/x-python",
   "name": "python",
   "nbconvert_exporter": "python",
   "pygments_lexer": "ipython3",
   "version": "3.6.6"
  }
 },
 "nbformat": 4,
 "nbformat_minor": 2
}
